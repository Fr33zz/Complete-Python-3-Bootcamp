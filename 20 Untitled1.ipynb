{
  "nbformat": 4,
  "nbformat_minor": 0,
  "metadata": {
    "colab": {
      "name": "Untitled1.ipynb",
      "provenance": [],
      "collapsed_sections": [],
      "authorship_tag": "ABX9TyOoUz6UY3ASvjMtM77R+9oM",
      "include_colab_link": true
    },
    "kernelspec": {
      "name": "python3",
      "display_name": "Python 3"
    }
  },
  "cells": [
    {
      "cell_type": "markdown",
      "metadata": {
        "id": "view-in-github",
        "colab_type": "text"
      },
      "source": [
        "<a href=\"https://colab.research.google.com/github/Fr33zz/Complete-Python-3-Bootcamp/blob/master/20%20Untitled1.ipynb\" target=\"_parent\"><img src=\"https://colab.research.google.com/assets/colab-badge.svg\" alt=\"Open In Colab\"/></a>"
      ]
    },
    {
      "cell_type": "code",
      "metadata": {
        "colab": {
          "base_uri": "https://localhost:8080/"
        },
        "id": "1S2kbUZUhJo7",
        "outputId": "90cb229b-e320-412b-d7d8-646d2264272a"
      },
      "source": [
        "import numpy as np\n",
        "import pandas as pd\n",
        "import matplotlib.pyplot as plt\n",
        "%matplotlib inline\n",
        "import seaborn as sns\n",
        "import math\n",
        "from datetime import date\n",
        "import datetime\n",
        "import json\n",
        "\n",
        "from google.colab import drive\n",
        "drive.mount('/content/drive')"
      ],
      "execution_count": null,
      "outputs": [
        {
          "output_type": "stream",
          "text": [
            "Mounted at /content/drive\n"
          ],
          "name": "stdout"
        }
      ]
    },
    {
      "cell_type": "code",
      "metadata": {
        "id": "TgUCkscLhPLI"
      },
      "source": [
        "from google.colab import auth\n",
        "auth.authenticate_user()\n",
        "import gspread\n",
        "from oauth2client.client import GoogleCredentials\n",
        "gc = gspread.authorize(GoogleCredentials.get_application_default())"
      ],
      "execution_count": null,
      "outputs": []
    },
    {
      "cell_type": "code",
      "metadata": {
        "id": "Ahq-W7Z7hWIg"
      },
      "source": [
        "nsv_ = gc.open_by_url('https://docs.google.com/spreadsheets/d/1i_8ahtpWYdrH86FH3lhhsd10mLaUEyBRZuPcCvc2El0')\n",
        "\n",
        "\n",
        "def get_data(spreadsheet, list_number=0):\n",
        "  ind = pd.DataFrame(spreadsheet.worksheets()[list_number].get_all_values())\n",
        "  ind = ind.rename(columns=ind.iloc[0]).drop(index=0).reset_index().drop(columns='index')\n",
        "  return ind\n",
        "\n",
        "def get_titles(x, type_=1):\n",
        "  '''type = {0:\"list\", 1:\"df\"}'''\n",
        "  if type_==0:\n",
        "    return [i.title for i in x.worksheets()]\n",
        "  if type_==1:\n",
        "    return pd.DataFrame([i.title for i in x.worksheets()])\n",
        "\n",
        "\n",
        "def to_num(data, columns, print_=False, list_=False):\n",
        "  d = data.copy()\n",
        "  l = []\n",
        "  for i in columns:\n",
        "    try:       \n",
        "      if len(d[i].shape)==1:\n",
        "        d[i] = d[i].map(lambda x: str(x) if x!='' and x==x else np.nan)\n",
        "        d[i] = d[i].map(lambda x: '.'.join(x.split(','   )) if x!='' and x==x else np.nan)\n",
        "        d[i] = d[i].map(lambda x:  ''.join(x.split(' '   )) if x!='' and x==x else np.nan)\n",
        "        d[i] = d[i].map(lambda x:  ''.join(x.split('\\xa0')) if x!='' and x==x else np.nan)\n",
        "      if len(d[i].shape)==2:\n",
        "        d[i] = d[i].applymap(lambda x: str(x) if x!='' and x==x else np.nan)\n",
        "        d[i] = d[i].applymap(lambda x: '.'.join(x.split(','   )) if x!='' and x==x else np.nan)\n",
        "        d[i] = d[i].applymap(lambda x:  ''.join(x.split(' '   )) if x!='' and x==x else np.nan)\n",
        "        d[i] = d[i].applymap(lambda x:  ''.join(x.split('\\xa0')) if x!='' and x==x else np.nan)\n",
        "      \n",
        "      d[i] = d[i].astype('float')\n",
        "    except:\n",
        "      l.append(i)\n",
        "      if print_:\n",
        "        print(print_,' : ', i)\n",
        "      else:\n",
        "        None\n",
        "  if list_:\n",
        "    return l, d\n",
        "  else:\n",
        "    return d\n",
        "\n",
        "\n",
        "def to_dates(data, columns, print_=False, list_=False):\n",
        "  d = data.copy()\n",
        "  l = []\n",
        "  for i in columns:\n",
        "    try:\n",
        "      \n",
        "      d[i] = d[i].replace({'':np.nan})\n",
        "      d[i] = d[i].str.split('T').map(lambda x: x[0] if x==x else x)\n",
        "      #d[i] = d[i].str.split('-').map(lambda x: int(x[2]) if x==x else x)\n",
        "      #d[i] = pd.to_datetime(d[i], format='%Y-%m-&d')\n",
        "      d[i] = pd.to_datetime(d[i])\n",
        "    \n",
        "    except:\n",
        "      l.append(i)\n",
        "      if print_:\n",
        "        print(print_, ' : ', i)\n",
        "  if list_:\n",
        "    return l, d\n",
        "  else:\n",
        "    return d\n",
        "\n",
        "#for i in dates:\n",
        "#  d[i] = pd.to_datetime(d[i].replace({'':np.nan}), format='%d.%m.%Y')"
      ],
      "execution_count": null,
      "outputs": []
    },
    {
      "cell_type": "code",
      "metadata": {
        "id": "BwzV3R3bhWmj"
      },
      "source": [
        "nsv = get_data(nsv_)\n",
        "nsv['дата начала'] = nsv['дата начала'].str.split('-').map(lambda x: '-'.join([x[0], x[1], '20'+x[2]]))\n",
        "nsv = to_num(nsv, nsv.iloc[:,-5:].columns)\n",
        "\n",
        "def f(x):\n",
        "  l = ['0','0','0']\n",
        "  for i in range(3):\n",
        "    try: l[i] = x[i]\n",
        "    except: pass\n",
        "  return ''.join(l)\n",
        "\n",
        "for i in nsv.iloc[:,-5:].columns:\n",
        "  nsv[i] = nsv[i].map(lambda x: round(x))\n",
        "  #nsv[i] = nsv[i].map(lambda x: '.'.join(str(x).split('.')))\n",
        "  #nsv[i] = nsv[i].str.split('.').map(lambda x: ','.join([x[0],f(x[1])]))"
      ],
      "execution_count": null,
      "outputs": []
    },
    {
      "cell_type": "code",
      "metadata": {
        "id": "ZyQluO-upuW-"
      },
      "source": [
        "#nsv"
      ],
      "execution_count": null,
      "outputs": []
    },
    {
      "cell_type": "code",
      "metadata": {
        "id": "FBueeo1ziHi0"
      },
      "source": [
        "nsv.to_excel('/content/drive/My Drive/analytics/20 mailing about НСВ/to_mail.xlsx')"
      ],
      "execution_count": null,
      "outputs": []
    },
    {
      "cell_type": "code",
      "metadata": {
        "id": "_kF8DVKIpQl3"
      },
      "source": [
        ""
      ],
      "execution_count": null,
      "outputs": []
    }
  ]
}